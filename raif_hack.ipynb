{
  "nbformat": 4,
  "nbformat_minor": 0,
  "metadata": {
    "colab": {
      "name": "Untitled7.ipynb",
      "provenance": []
    },
    "kernelspec": {
      "name": "python3",
      "display_name": "Python 3"
    },
    "language_info": {
      "name": "python"
    }
  },
  "cells": [
    {
      "cell_type": "code",
      "metadata": {
        "colab": {
          "base_uri": "https://localhost:8080/"
        },
        "id": "IOKHOk8AsZCx",
        "outputId": "ba26d32c-a366-46c9-df14-90a09be0230d"
      },
      "source": [
        "!pip install sklearn"
      ],
      "execution_count": 8,
      "outputs": [
        {
          "output_type": "stream",
          "name": "stdout",
          "text": [
            "Requirement already satisfied: sklearn in /usr/local/lib/python3.7/dist-packages (0.0)\n",
            "Requirement already satisfied: scikit-learn in /usr/local/lib/python3.7/dist-packages (from sklearn) (0.22.2.post1)\n",
            "Requirement already satisfied: numpy>=1.11.0 in /usr/local/lib/python3.7/dist-packages (from scikit-learn->sklearn) (1.19.5)\n",
            "Requirement already satisfied: joblib>=0.11 in /usr/local/lib/python3.7/dist-packages (from scikit-learn->sklearn) (1.0.1)\n",
            "Requirement already satisfied: scipy>=0.17.0 in /usr/local/lib/python3.7/dist-packages (from scikit-learn->sklearn) (1.4.1)\n"
          ]
        }
      ]
    },
    {
      "cell_type": "code",
      "metadata": {
        "colab": {
          "base_uri": "https://localhost:8080/",
          "height": 129
        },
        "id": "HTUhefVIrIlp",
        "outputId": "e441032e-321b-42f0-ff6c-a09cd9a28ca7"
      },
      "source": [
        "import argparse\n",
        "import logging.config\n",
        "import pandas as pd\n",
        "from traceback import format_exc\n",
        "\n",
        "from raif_hack.model import BenchmarkModel\n",
        "from raif_hack.settings import MODEL_PARAMS, LOGGING_CONFIG, NUM_FEATURES, CATEGORICAL_OHE_FEATURES,CATEGORICAL_STE_FEATURES,TARGET\n",
        "from raif_hack.utils import PriceTypeEnum\n",
        "from raif_hack.metrics import metrics_stat\n",
        "from raif_hack.features import prepare_categorical\n",
        "\n",
        "logging.config.dictConfig(LOGGING_CONFIG)\n",
        "logger = logging.getLogger(__name__)\n",
        "\n",
        "\n",
        "def parse_args():\n",
        "\n",
        "    parser = argparse.ArgumentParser(\n",
        "        description=\"\"\"\n",
        "    Бенчмарк для хакатона по предсказанию стоимости коммерческой недвижимости от \"Райффайзенбанк\"\n",
        "    Скрипт для обучения модели\n",
        "     \n",
        "     Примеры:\n",
        "        1) с poetry - poetry run python3 train.py --train_data /path/to/train/data --model_path /path/to/model\n",
        "        2) без poetry - python3 train.py --train_data /path/to/train/data --model_path /path/to/model\n",
        "    \"\"\",\n",
        "        formatter_class=argparse.RawTextHelpFormatter,\n",
        "    )\n",
        "\n",
        "    parser.add_argument(\"--train_data\", \"-d\", type=str, dest=\"d\", required=True, help=\"Путь до обучающего датасета\")\n",
        "    parser.add_argument(\"--model_path\", \"-mp\", type=str, dest=\"mp\", required=True, help=\"Куда сохранить обученную ML модель\")\n",
        "\n",
        "    return parser.parse_args()\n",
        "\n",
        "if __name__ == \"__main__\":\n",
        "\n",
        "    try:\n",
        "        logger.info('START train.py')\n",
        "        args = vars(parse_args())\n",
        "        logger.info('Load train df')\n",
        "        train_df = pd.read_csv('./data/train.csv')\n",
        "        print(train_df)\n",
        "        logger.info(f'Input shape: {train_df.shape}')\n",
        "        train_df = prepare_categorical(train_df)\n",
        "\n",
        "        X_offer = train_df[train_df.price_type == PriceTypeEnum.OFFER_PRICE][NUM_FEATURES+CATEGORICAL_OHE_FEATURES+CATEGORICAL_STE_FEATURES]\n",
        "        y_offer = train_df[train_df.price_type == PriceTypeEnum.OFFER_PRICE][TARGET]\n",
        "        X_manual = train_df[train_df.price_type == PriceTypeEnum.MANUAL_PRICE][NUM_FEATURES+CATEGORICAL_OHE_FEATURES+CATEGORICAL_STE_FEATURES]\n",
        "        y_manual = train_df[train_df.price_type == PriceTypeEnum.MANUAL_PRICE][TARGET]\n",
        "        logger.info(f'X_offer {X_offer.shape}  y_offer {y_offer.shape}\\tX_manual {X_manual.shape} y_manual {y_manual.shape}')\n",
        "        model = BenchmarkModel(numerical_features=NUM_FEATURES, ohe_categorical_features=CATEGORICAL_OHE_FEATURES,\n",
        "                                  ste_categorical_features=CATEGORICAL_STE_FEATURES, model_params=MODEL_PARAMS)\n",
        "        logger.info('Fit model')\n",
        "        model.fit(X_offer, y_offer, X_manual, y_manual)\n",
        "        logger.info('Save model')\n",
        "        #model.save(args['mp'])\n",
        "\n",
        "        predictions_offer = model.predict(X_offer)\n",
        "        metrics = metrics_stat(y_offer.values, predictions_offer/(1+model.corr_coef)) # для обучающей выборки с ценами из объявлений смотрим качество без коэффициента\n",
        "        logger.info(f'Metrics stat for training data with offers prices: {metrics}')\n",
        "\n",
        "        predictions_manual = model.predict(X_manual)\n",
        "        metrics = metrics_stat(y_manual.values, predictions_manual)\n",
        "        logger.info(f'Metrics stat for training data with manual prices: {metrics}')\n",
        "\n",
        "\n",
        "    except Exception as e:\n",
        "        err = format_exc()\n",
        "        logger.error(err)\n",
        "        raise(e)\n",
        "    logger.info('END train.py')"
      ],
      "execution_count": 15,
      "outputs": [
        {
          "output_type": "error",
          "ename": "SyntaxError",
          "evalue": "ignored",
          "traceback": [
            "\u001b[0;36m  File \u001b[0;32m\"<ipython-input-15-5c9ba755e8f0>\"\u001b[0;36m, line \u001b[0;32m67\u001b[0m\n\u001b[0;31m    \u001b[0m\n\u001b[0m    ^\u001b[0m\n\u001b[0;31mSyntaxError\u001b[0m\u001b[0;31m:\u001b[0m unexpected EOF while parsing\n"
          ]
        }
      ]
    },
    {
      "cell_type": "code",
      "metadata": {
        "id": "FsxGRlNIyXvr"
      },
      "source": [
        "import argparse\n",
        "import logging.config\n",
        "import pandas as pd\n",
        "from traceback import format_exc\n",
        "from sklearn.preprocessing import OneHotEncoder, StandardScaler, OrdinalEncoder\n",
        "from raif_hack.model import BenchmarkModel\n",
        "from raif_hack.settings import MODEL_PARAMS, LOGGING_CONFIG, NUM_FEATURES, CATEGORICAL_OHE_FEATURES,CATEGORICAL_STE_FEATURES,TARGET\n",
        "from raif_hack.utils import PriceTypeEnum\n",
        "from raif_hack.metrics import metrics_stat\n",
        "from raif_hack.features import prepare_categorical\n",
        "\n",
        "logging.config.dictConfig(LOGGING_CONFIG)\n",
        "logger = logging.getLogger(__name__)"
      ],
      "execution_count": 3,
      "outputs": []
    },
    {
      "cell_type": "code",
      "metadata": {
        "colab": {
          "base_uri": "https://localhost:8080/",
          "height": 323
        },
        "id": "WFAm6JgP0Mzg",
        "outputId": "f19e10fd-7023-42d3-ec3b-fe99b9d66af2"
      },
      "source": [
        "!pip uninstall scikit-learn -y\n",
        "\n",
        "!pip install -U scikit-learn"
      ],
      "execution_count": 21,
      "outputs": [
        {
          "output_type": "stream",
          "name": "stdout",
          "text": [
            "Found existing installation: scikit-learn 0.22.2.post1\n",
            "Uninstalling scikit-learn-0.22.2.post1:\n",
            "  Successfully uninstalled scikit-learn-0.22.2.post1\n",
            "Collecting scikit-learn\n",
            "  Downloading scikit_learn-1.0-cp37-cp37m-manylinux_2_12_x86_64.manylinux2010_x86_64.whl (23.1 MB)\n",
            "\u001b[K     |████████████████████████████████| 23.1 MB 1.2 MB/s \n",
            "\u001b[?25hRequirement already satisfied: scipy>=1.1.0 in /usr/local/lib/python3.7/dist-packages (from scikit-learn) (1.4.1)\n",
            "Requirement already satisfied: joblib>=0.11 in /usr/local/lib/python3.7/dist-packages (from scikit-learn) (1.0.1)\n",
            "Collecting threadpoolctl>=2.0.0\n",
            "  Downloading threadpoolctl-2.2.0-py3-none-any.whl (12 kB)\n",
            "Requirement already satisfied: numpy>=1.14.6 in /usr/local/lib/python3.7/dist-packages (from scikit-learn) (1.19.5)\n",
            "Installing collected packages: threadpoolctl, scikit-learn\n",
            "Successfully installed scikit-learn-1.0 threadpoolctl-2.2.0\n"
          ]
        },
        {
          "output_type": "display_data",
          "data": {
            "application/vnd.colab-display-data+json": {
              "pip_warning": {
                "packages": [
                  "sklearn"
                ]
              }
            }
          },
          "metadata": {}
        }
      ]
    },
    {
      "cell_type": "code",
      "metadata": {
        "colab": {
          "base_uri": "https://localhost:8080/"
        },
        "id": "HPIzJ4kKySfm",
        "outputId": "13b690ed-8bf6-4416-e201-14c963e382f9"
      },
      "source": [
        "logger.info('START train.py')\n",
        "logger.info('Load train df')\n",
        "train_df = pd.read_csv('./data/train.csv')\n",
        "logger.info(f'Input shape: {train_df.shape}')\n",
        "train_df = prepare_categorical(train_df)\n",
        "\n",
        "X_offer = train_df[train_df.price_type == PriceTypeEnum.OFFER_PRICE][NUM_FEATURES+CATEGORICAL_OHE_FEATURES+CATEGORICAL_STE_FEATURES]\n",
        "y_offer = train_df[train_df.price_type == PriceTypeEnum.OFFER_PRICE][TARGET]\n",
        "X_manual = train_df[train_df.price_type == PriceTypeEnum.MANUAL_PRICE][NUM_FEATURES+CATEGORICAL_OHE_FEATURES+CATEGORICAL_STE_FEATURES]\n",
        "y_manual = train_df[train_df.price_type == PriceTypeEnum.MANUAL_PRICE][TARGET]\n",
        "logger.info(f'X_offer {X_offer.shape}  y_offer {y_offer.shape}\\tX_manual {X_manual.shape} y_manual {y_manual.shape}')\n",
        "model = BenchmarkModel(numerical_features=NUM_FEATURES, ohe_categorical_features=CATEGORICAL_OHE_FEATURES,\n",
        "                       ste_categorical_features=CATEGORICAL_STE_FEATURES, model_params=MODEL_PARAMS)\n",
        "logger.info('Fit model')\n",
        "model.fit(X_offer, y_offer, X_manual, y_manual)\n",
        "logger.info('Save model')\n",
        "        #model.save(args['mp'])\n",
        "\n",
        "predictions_offer = model.predict(X_offer)\n",
        "metrics = metrics_stat(y_offer.values, predictions_offer/(1+model.corr_coef)) # для обучающей выборки с ценами из объявлений смотрим качество без коэффициента\n",
        "logger.info(f'Metrics stat for training data with offers prices: {metrics}')\n",
        "\n",
        "predictions_manual = model.predict(X_manual)\n",
        "metrics = metrics_stat(y_manual.values, predictions_manual)\n",
        "logger.info(f'Metrics stat for training data with manual prices: {metrics}')"
      ],
      "execution_count": 4,
      "outputs": [
        {
          "output_type": "stream",
          "name": "stderr",
          "text": [
            "/usr/local/lib/python3.7/dist-packages/IPython/core/interactiveshell.py:2718: DtypeWarning: Columns (1) have mixed types.Specify dtype option on import or set low_memory=False.\n",
            "  interactivity=interactivity, compiler=compiler, result=result)\n",
            "/usr/local/lib/python3.7/dist-packages/lightgbm/basic.py:1209: UserWarning: categorical_feature in Dataset is overridden.\n",
            "New categorical_feature is ['67', '68', '69']\n",
            "  'New categorical_feature is {}'.format(sorted(list(categorical_feature))))\n"
          ]
        }
      ]
    },
    {
      "cell_type": "code",
      "metadata": {
        "id": "-xmU-7UdvdUr"
      },
      "source": [
        "import argparse\n",
        "import logging.config\n",
        "import pandas as pd\n",
        "from raif_hack.features import prepare_categorical\n",
        "from traceback import format_exc\n",
        "\n",
        "from raif_hack.model import BenchmarkModel\n",
        "from raif_hack.settings import LOGGING_CONFIG, NUM_FEATURES, CATEGORICAL_OHE_FEATURES, \\\n",
        "    CATEGORICAL_STE_FEATURES\n",
        "\n",
        "logging.config.dictConfig(LOGGING_CONFIG)\n",
        "logger = logging.getLogger(__name__)\n",
        "\n",
        "\n",
        "logger.info('START predict.py')\n",
        "logger.info('Load test df')\n",
        "test_df = pd.read_csv('./data/test.csv')\n",
        "logger.info(f'Input shape: {test_df.shape}')\n",
        "test_df = prepare_categorical(test_df)\n",
        "\n",
        "\n",
        "#model = BenchmarkModel.load(args['mp'])\n",
        "logger.info('Predict')\n",
        "test_df['per_square_meter_price'] = model.predict(test_df[NUM_FEATURES+CATEGORICAL_OHE_FEATURES+CATEGORICAL_STE_FEATURES])\n",
        "logger.info('Save results')\n",
        "test_df[['id','per_square_meter_price']].to_csv('./data/prediction.csv', index=False)\n",
        "logger.info('END predict.py')"
      ],
      "execution_count": 6,
      "outputs": []
    }
  ]
}